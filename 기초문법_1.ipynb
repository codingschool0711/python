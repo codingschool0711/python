{
  "nbformat": 4,
  "nbformat_minor": 0,
  "metadata": {
    "colab": {
      "name": "기초문법 1.ipynb",
      "provenance": [],
      "authorship_tag": "ABX9TyOV0nHAv0hmBOIfaOHzycIP",
      "include_colab_link": true
    },
    "kernelspec": {
      "name": "python3",
      "display_name": "Python 3"
    },
    "language_info": {
      "name": "python"
    }
  },
  "cells": [
    {
      "cell_type": "markdown",
      "metadata": {
        "id": "view-in-github",
        "colab_type": "text"
      },
      "source": [
        "<a href=\"https://colab.research.google.com/github/codingschool0711/python/blob/main/%EA%B8%B0%EC%B4%88%EB%AC%B8%EB%B2%95_1.ipynb\" target=\"_parent\"><img src=\"https://colab.research.google.com/assets/colab-badge.svg\" alt=\"Open In Colab\"/></a>"
      ]
    },
    {
      "cell_type": "markdown",
      "source": [
        "#### 변수\n",
        "* 일반 프로그래밍 언어와는 다르게 변수를 선언하지 않음\n",
        "\n",
        "```C\n",
        "/* C 또는 Java  언어  */\n",
        "int no = 10;\n",
        "```\n",
        "\n",
        "```python\n",
        "no = 100\n",
        "no = '홍길동'\n",
        "```\n",
        "\n",
        "* 변수명으로 영문자 대소문자, 숫자, _(밑줄문자)가 사용되며 대소문자는 구별함\n",
        "\n",
        "no, no_studuent, Count 등\n",
        "\n",
        "* 한 문장으로 여러 개의 변수에 값을 할당\n",
        "\n",
        "```python\n",
        "no, count = 10, 20   --> no = 10, count = 20이 할당됨\n",
        "```"
      ],
      "metadata": {
        "id": "S35az-Ip517i"
      }
    },
    {
      "cell_type": "code",
      "source": [
        "no = 10\n",
        "print(no)"
      ],
      "metadata": {
        "colab": {
          "base_uri": "https://localhost:8080/"
        },
        "id": "1omOu9eg7odN",
        "outputId": "c6441e8b-9ab1-439c-cf3e-8bae84e34dfa"
      },
      "execution_count": null,
      "outputs": [
        {
          "output_type": "stream",
          "name": "stdout",
          "text": [
            "10\n"
          ]
        }
      ]
    },
    {
      "cell_type": "code",
      "source": [
        "no = '홍길동'\n",
        "print(no)"
      ],
      "metadata": {
        "colab": {
          "base_uri": "https://localhost:8080/"
        },
        "id": "7AzTyFiD7rp0",
        "outputId": "45fbae90-0ba4-4840-9110-e9b355360a65"
      },
      "execution_count": null,
      "outputs": [
        {
          "output_type": "stream",
          "name": "stdout",
          "text": [
            "홍길동\n"
          ]
        }
      ]
    },
    {
      "cell_type": "markdown",
      "source": [
        "* Python 언어에서는 다음과 같은 자료형을 제공함\n",
        "\n",
        "\n",
        "> 정수형(int), 실수형(float), 문자열(str),  논리형(bool),\n",
        "\n",
        "> 리스트(list), 튜플(tuple), 딕셔너리(dict), 집합(set)\n",
        "\n",
        "---\n",
        "\n",
        "* 해당 변수의 자료형을 조회하는 명령은 **type(변수)**이다."
      ],
      "metadata": {
        "id": "PJplcjHr7w57"
      }
    },
    {
      "cell_type": "code",
      "source": [
        "type(no)"
      ],
      "metadata": {
        "colab": {
          "base_uri": "https://localhost:8080/"
        },
        "id": "FT6a75AA82xc",
        "outputId": "87aad82a-38c4-4a44-ce34-ce0f7aadc8ec"
      },
      "execution_count": null,
      "outputs": [
        {
          "output_type": "execute_result",
          "data": {
            "text/plain": [
              "str"
            ]
          },
          "metadata": {},
          "execution_count": 3
        }
      ]
    },
    {
      "cell_type": "code",
      "source": [
        "no_int = 100\n",
        "no_float = 100.0\n",
        "no_bool = True\n",
        "print(type(no_int), type(no_float), type(no_bool))"
      ],
      "metadata": {
        "colab": {
          "base_uri": "https://localhost:8080/"
        },
        "id": "oyOp2-2W855s",
        "outputId": "a61031bc-a8c1-470c-94da-f8174a5104f4"
      },
      "execution_count": null,
      "outputs": [
        {
          "output_type": "stream",
          "name": "stdout",
          "text": [
            "<class 'int'> <class 'float'> <class 'bool'>\n"
          ]
        }
      ]
    },
    {
      "cell_type": "code",
      "source": [
        "no_list = [1,2,3,4]\n",
        "no_tuple = (1,2,3,4)\n",
        "no_dict = {'1':20, '2':40}\n",
        "no_set = {2,3,5,6}\n",
        "print(type(no_list), type(no_tuple), type(no_dict), type(no_set))"
      ],
      "metadata": {
        "colab": {
          "base_uri": "https://localhost:8080/"
        },
        "id": "lYJR50I1_zjN",
        "outputId": "ccff8894-65fa-4efa-b3bc-56078791afd1"
      },
      "execution_count": null,
      "outputs": [
        {
          "output_type": "stream",
          "name": "stdout",
          "text": [
            "<class 'list'> <class 'tuple'> <class 'dict'> <class 'set'>\n"
          ]
        }
      ]
    },
    {
      "cell_type": "markdown",
      "source": [
        "* 자료형변환 : **자료형(변수 또는 상수)** \n",
        "\n",
        "\n",
        "``` python\n",
        "no = 10\n",
        "float(no)\n",
        "```"
      ],
      "metadata": {
        "id": "w7tnt3eO9FX7"
      }
    },
    {
      "cell_type": "code",
      "source": [
        "x, y = input(\"두 정수를 입력 : \").split()\n",
        "print(x+y)"
      ],
      "metadata": {
        "colab": {
          "base_uri": "https://localhost:8080/"
        },
        "id": "DwVhpxuJ-192",
        "outputId": "c6b83aaf-9ca5-4988-a6b3-1c993ca0ca47"
      },
      "execution_count": null,
      "outputs": [
        {
          "output_type": "stream",
          "name": "stdout",
          "text": [
            "두 정수를 입력 : 10 20\n",
            "1020\n"
          ]
        }
      ]
    },
    {
      "cell_type": "code",
      "source": [
        ""
      ],
      "metadata": {
        "id": "nHEEpqNH_FOL"
      },
      "execution_count": null,
      "outputs": []
    }
  ]
}